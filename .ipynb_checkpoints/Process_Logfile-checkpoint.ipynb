{
 "cells": [
  {
   "cell_type": "code",
   "execution_count": 1,
   "metadata": {},
   "outputs": [],
   "source": [
    "import re\n",
    "import numpy as np\n",
    "import matplotlib.pyplot as plt\n",
    "from statistics import mean\n",
    "from glob import glob\n",
    "import gzip"
   ]
  },
  {
   "cell_type": "code",
   "execution_count": 2,
   "metadata": {},
   "outputs": [],
   "source": [
    "PATH = '/scratch1/07088/tg863871/aquaplanet_h308_timing_frontera_ne4pg2_ne4pg2_CRM1_32x_125z1400m.5s_crm_nx_rad_16_CRM2_64x_125z200m.0.5s_crm_nx_rad2_16_np_346_nlev_125_nthread_1.frontera/run/'\n",
    "FNAME = 'e3sm.log.2702166.210315-033935'"
   ]
  },
  {
   "cell_type": "code",
   "execution_count": 3,
   "metadata": {},
   "outputs": [],
   "source": [
    "def gunzip(source_filepath, dest_filepath, block_size=65536):\n",
    "    with gzip.open(source_filepath, 'rb') as s_file, \\\n",
    "            open(dest_filepath, 'wb') as d_file:\n",
    "        while True:\n",
    "            block = s_file.read(block_size)\n",
    "            if not block:\n",
    "                break\n",
    "            else:\n",
    "                d_file.write(block)"
   ]
  },
  {
   "cell_type": "code",
   "execution_count": 4,
   "metadata": {},
   "outputs": [],
   "source": [
    "def find_indices(lst, condition):\n",
    "    return [i for i, elem in enumerate(lst) if condition(elem)]"
   ]
  },
  {
   "cell_type": "code",
   "execution_count": 6,
   "metadata": {},
   "outputs": [
    {
     "data": {
      "text/plain": [
       "76"
      ]
     },
     "execution_count": 6,
     "metadata": {},
     "output_type": "execute_result"
    }
   ],
   "source": [
    "384-308"
   ]
  },
  {
   "cell_type": "code",
   "execution_count": 5,
   "metadata": {},
   "outputs": [
    {
     "name": "stdout",
     "output_type": "stream",
     "text": [
      "-----------\n",
      "-----------\n",
      "-----------\n",
      "-----------\n",
      "-----------\n",
      "-----------\n",
      "-----------\n",
      "-----------\n",
      "-----------\n",
      "-----------\n",
      "36.48535761096561\n",
      "3.0881660579368453\n",
      "===========\n"
     ]
    }
   ],
   "source": [
    "# This group of experiments use 308 heavy loading columns (384 total) with different DX and np_346\n",
    "x = range(200, 2200, 200)\n",
    "ntime_mean1 = [-99]\n",
    "ntime_mean2 = [-99]\n",
    "ntime_std1  = [-99]\n",
    "ntime_std2  = [-99]\n",
    "for n in x:\n",
    "    PATH = '/scratch1/07088/tg863871/aquaplanet_h308_timing_frontera_ne4pg2_ne4pg2_CRM1_32x_125z'+str(n)+'m.5s_crm_nx_rad_16_CRM2_64x_125z200m.0.5s_crm_nx_rad2_16_np_346_nlev_125_nthread_1.frontera/run/'\n",
    "    FNAME = glob(PATH+'e3sm.log.*.gz')\n",
    "    FNAME2 = PATH+'e3sm.log.extract'\n",
    "    if len(FNAME)>0:\n",
    "        gunzip(FNAME[0], FNAME2)\n",
    "        #print(FNAME2)\n",
    "        file1 = open(FNAME2, 'r')\n",
    "    else:\n",
    "        file1 = open(FNAME2, 'r')\n",
    "    \n",
    "    #print(FNAME)\n",
    "    \n",
    "    Lines = file1.readlines()\n",
    "    count = 1\n",
    "    num_columns = [-99]\n",
    "    num_time = [-99.99]\n",
    "    for line in Lines:\n",
    "        count += 1\n",
    "        if line.find('=== Liran Timing===') != -1:\n",
    "            hline=re.split(' +',line.strip())\n",
    "            if len(hline) == 6:\n",
    "                num_columns.append(int(hline[4]))\n",
    "                num_time.append(float(hline[5]))\n",
    "    \n",
    "    work1 = find_indices(num_columns, lambda e: e == 1 )\n",
    "    work2 = find_indices(num_columns, lambda e: e == 2 )\n",
    "    work11 = [num_time[i] for i in work1]\n",
    "    work22 = [num_time[i] for i in work2]\n",
    "    #print(mean(work11[:]))\n",
    "    #print(np.std(work11[:]))\n",
    "    #print(mean(work22[:]))\n",
    "    #print(np.std(work22[:]))\n",
    "    ntime_mean1.append(float(mean(work11[:])))\n",
    "    ntime_mean2.append(float(np.std(work11[:])))\n",
    "    ntime_std1.append(float(mean(work22[:])))\n",
    "    ntime_std2.append(float(np.std(work22[:])))\n",
    "    print('-----------')\n",
    "\n",
    "print(mean(ntime_mean1[1:]))    \n",
    "print(mean(ntime_mean2[1:])) \n",
    "print('===========')"
   ]
  },
  {
   "cell_type": "code",
   "execution_count": 18,
   "metadata": {},
   "outputs": [
    {
     "name": "stdout",
     "output_type": "stream",
     "text": [
      "/scratch1/07088/tg863871/aquaplanet_h308_timing_frontera_ne4pg2_ne4pg2_CRM1_32x_125z1200m.5s_crm_nx_rad_16_CRM2_32x_125z200m.0.5s_crm_nx_rad2_16_np_327_nlev_125_nthread_1.frontera/run/e3sm.log.extract\n",
      "['/scratch1/07088/tg863871/aquaplanet_h308_timing_frontera_ne4pg2_ne4pg2_CRM1_32x_125z1200m.5s_crm_nx_rad_16_CRM2_32x_125z200m.0.5s_crm_nx_rad2_16_np_327_nlev_125_nthread_1.frontera/run/e3sm.log.2708738.210316-055053.gz']\n",
      "19.212588225507652\n",
      "1.570284631683481\n",
      "5.483893992005553\n",
      "0.8684520083953818\n",
      "-----------\n",
      "/scratch1/07088/tg863871/aquaplanet_h308_timing_frontera_ne4pg2_ne4pg2_CRM1_32x_125z1200m.5s_crm_nx_rad_16_CRM2_64x_125z200m.0.5s_crm_nx_rad2_16_np_327_nlev_125_nthread_1.frontera/run/e3sm.log.extract\n",
      "['/scratch1/07088/tg863871/aquaplanet_h308_timing_frontera_ne4pg2_ne4pg2_CRM1_32x_125z1200m.5s_crm_nx_rad_16_CRM2_64x_125z200m.0.5s_crm_nx_rad2_16_np_327_nlev_125_nthread_1.frontera/run/e3sm.log.2708740.210316-064616.gz', '/scratch1/07088/tg863871/aquaplanet_h308_timing_frontera_ne4pg2_ne4pg2_CRM1_32x_125z1200m.5s_crm_nx_rad_16_CRM2_64x_125z200m.0.5s_crm_nx_rad2_16_np_327_nlev_125_nthread_1.frontera/run/e3sm.log.2703732.210315-122405.gz']\n",
      "36.57929612905225\n",
      "3.052477689985614\n",
      "5.438970025947415\n",
      "0.8549757044993797\n",
      "-----------\n",
      "/scratch1/07088/tg863871/aquaplanet_h308_timing_frontera_ne4pg2_ne4pg2_CRM1_32x_125z1200m.5s_crm_nx_rad_16_CRM2_96x_125z200m.0.5s_crm_nx_rad2_16_np_327_nlev_125_nthread_1.frontera/run/e3sm.log.extract\n",
      "['/scratch1/07088/tg863871/aquaplanet_h308_timing_frontera_ne4pg2_ne4pg2_CRM1_32x_125z1200m.5s_crm_nx_rad_16_CRM2_96x_125z200m.0.5s_crm_nx_rad2_16_np_327_nlev_125_nthread_1.frontera/run/e3sm.log.2708744.210316-064616.gz']\n",
      "53.96037207840008\n",
      "4.695146603910393\n",
      "5.517542998196165\n",
      "0.900948614617494\n",
      "-----------\n",
      "/scratch1/07088/tg863871/aquaplanet_h308_timing_frontera_ne4pg2_ne4pg2_CRM1_32x_125z1200m.5s_crm_nx_rad_16_CRM2_128x_125z200m.0.5s_crm_nx_rad2_16_np_327_nlev_125_nthread_1.frontera/run/e3sm.log.extract\n",
      "['/scratch1/07088/tg863871/aquaplanet_h308_timing_frontera_ne4pg2_ne4pg2_CRM1_32x_125z1200m.5s_crm_nx_rad_16_CRM2_128x_125z200m.0.5s_crm_nx_rad2_16_np_327_nlev_125_nthread_1.frontera/run/e3sm.log.2708774.210316-033738.gz']\n",
      "72.04598849522313\n",
      "6.234031993535578\n",
      "5.4690363142933505\n",
      "0.8541492539783808\n",
      "-----------\n",
      "[19.212588225507652, 36.57929612905225, 53.96037207840008, 72.04598849522313]\n",
      "[5.483893992005553, 5.438970025947415, 5.517542998196165, 5.4690363142933505]\n",
      "[0.54962899 1.47924204]\n"
     ]
    },
    {
     "data": {
      "text/plain": [
       "Text(0, 0.5, 'tUP')"
      ]
     },
     "execution_count": 18,
     "metadata": {},
     "output_type": "execute_result"
    },
    {
     "data": {
      "image/png": "[encoded data removed]",
      "text/plain": [
       "<Figure size 432x288 with 1 Axes>"
      ]
     },
     "metadata": {
      "needs_background": "light"
     },
     "output_type": "display_data"
    }
   ],
   "source": [
    "# This group of experiments use 308 heavy loading columns (384 total) with different CRM_NX\n",
    "x = [32,64,96,128]\n",
    "ntime_mean1 = [-99]\n",
    "ntime_mean2 = [-99]\n",
    "ntime_std1  = [-99]\n",
    "ntime_std2  = [-99]\n",
    "for n in x:\n",
    "    PATH = '/scratch1/07088/tg863871/aquaplanet_h308_timing_frontera_ne4pg2_ne4pg2_CRM1_32x_125z1200m.5s_crm_nx_rad_16_CRM2_'+str(n)+'x_125z200m.0.5s_crm_nx_rad2_16_np_327_nlev_125_nthread_1.frontera/run/'\n",
    "    FNAME = glob(PATH+'e3sm.log.*.gz')\n",
    "    FNAME2 = PATH+'e3sm.log.extract'\n",
    "    if len(FNAME)>0:\n",
    "        gunzip(FNAME[0], FNAME2)\n",
    "        print(FNAME2)\n",
    "        file1 = open(FNAME2, 'r')\n",
    "    else:\n",
    "        file1 = open(FNAME2, 'r')\n",
    "    \n",
    "    print(FNAME)\n",
    "    \n",
    "    Lines = file1.readlines()\n",
    "    count = 1\n",
    "    num_columns = [-99]\n",
    "    num_time = [-99.99]\n",
    "    for line in Lines:\n",
    "        count += 1\n",
    "        if line.find('=== Liran Timing===') != -1:\n",
    "            hline=re.split(' +',line.strip())\n",
    "            if len(hline) == 6:\n",
    "                num_columns.append(int(hline[4]))\n",
    "                num_time.append(float(hline[5]))\n",
    "    \n",
    "    work1 = find_indices(num_columns, lambda e: e == 1 )\n",
    "    work2 = find_indices(num_columns, lambda e: e == 4 )\n",
    "    work11 = [num_time[i] for i in work1]\n",
    "    work22 = [num_time[i] for i in work2]\n",
    "    print(mean(work11[:]))\n",
    "    print(np.std(work11[:]))\n",
    "    print(mean(work22[:]))\n",
    "    print(np.std(work22[:]))\n",
    "    ntime_mean1.append(float(mean(work11[:])))\n",
    "    ntime_std1.append(float(np.std(work11[:])))\n",
    "    ntime_mean2.append(float(mean(work22[:])))\n",
    "    ntime_std2.append(float(np.std(work22[:])))\n",
    "    print('-----------')\n",
    "\n",
    "print(ntime_mean1[1:])  \n",
    "print(ntime_mean2[1:]) \n",
    "z = np.polyfit(x, ntime_mean1[1:], 1)\n",
    "xp = np.linspace(32, 128, 100)\n",
    "print(z)\n",
    "fig = plt.figure()\n",
    "ax = fig.add_subplot(111)\n",
    "_ = plt.plot(x, ntime_mean1[1:], '.', xp, z[1]+z[0]*xp, '-')\n",
    "ax.set_aspect(1.0/ax.get_data_ratio(), adjustable='box')\n",
    "plt.xlabel('crm_nx')\n",
    "plt.ylabel('tUP')\n",
    "\n"
   ]
  },
  {
   "cell_type": "code",
   "execution_count": 50,
   "metadata": {},
   "outputs": [
    {
     "name": "stdout",
     "output_type": "stream",
     "text": [
      "/scratch1/07088/tg863871/aquaplanet_h308_timing_frontera_ne4pg2_ne4pg2_CRM1_32x_125z200m.5s_crm_nx_rad_16_CRM2_64x_125z200m.0.5s_crm_nx_rad2_16_np_327_nlev_125_nthread_1.frontera/run/e3sm.log.extract\n",
      "['/scratch1/07088/tg863871/aquaplanet_h308_timing_frontera_ne4pg2_ne4pg2_CRM1_32x_125z200m.5s_crm_nx_rad_16_CRM2_64x_125z200m.0.5s_crm_nx_rad2_16_np_327_nlev_125_nthread_1.frontera/run/e3sm.log.2703685.210315-113642.gz']\n",
      "36.32523989240531\n",
      "3.1011949799008147\n",
      "5.686599986976945\n",
      "0.8812422901226334\n",
      "-----------\n",
      "/scratch1/07088/tg863871/aquaplanet_h308_timing_frontera_ne4pg2_ne4pg2_CRM1_32x_125z400m.5s_crm_nx_rad_16_CRM2_64x_125z200m.0.5s_crm_nx_rad2_16_np_327_nlev_125_nthread_1.frontera/run/e3sm.log.extract\n",
      "['/scratch1/07088/tg863871/aquaplanet_h308_timing_frontera_ne4pg2_ne4pg2_CRM1_32x_125z400m.5s_crm_nx_rad_16_CRM2_64x_125z200m.0.5s_crm_nx_rad2_16_np_327_nlev_125_nthread_1.frontera/run/e3sm.log.2703693.210315-114013.gz']\n",
      "36.56696601057803\n",
      "3.1024494440926533\n",
      "5.585760264930095\n",
      "0.862374281788529\n",
      "-----------\n",
      "/scratch1/07088/tg863871/aquaplanet_h308_timing_frontera_ne4pg2_ne4pg2_CRM1_32x_125z600m.5s_crm_nx_rad_16_CRM2_64x_125z200m.0.5s_crm_nx_rad2_16_np_327_nlev_125_nthread_1.frontera/run/e3sm.log.extract\n",
      "['/scratch1/07088/tg863871/aquaplanet_h308_timing_frontera_ne4pg2_ne4pg2_CRM1_32x_125z600m.5s_crm_nx_rad_16_CRM2_64x_125z200m.0.5s_crm_nx_rad2_16_np_327_nlev_125_nthread_1.frontera/run/e3sm.log.2703704.210315-114913.gz']\n",
      "36.40559006052441\n",
      "3.1448453386282287\n",
      "5.592530386194612\n",
      "0.9194486864769971\n",
      "-----------\n",
      "[]\n",
      "36.3782723586144\n",
      "3.1297270120481184\n",
      "5.478810858808605\n",
      "0.8599040608087926\n",
      "-----------\n",
      "/scratch1/07088/tg863871/aquaplanet_h308_timing_frontera_ne4pg2_ne4pg2_CRM1_32x_125z1000m.5s_crm_nx_rad_16_CRM2_64x_125z200m.0.5s_crm_nx_rad2_16_np_327_nlev_125_nthread_1.frontera/run/e3sm.log.extract\n",
      "['/scratch1/07088/tg863871/aquaplanet_h308_timing_frontera_ne4pg2_ne4pg2_CRM1_32x_125z1000m.5s_crm_nx_rad_16_CRM2_64x_125z200m.0.5s_crm_nx_rad2_16_np_327_nlev_125_nthread_1.frontera/run/e3sm.log.2703725.210315-122405.gz']\n",
      "36.76515553711651\n",
      "3.094304365192115\n",
      "5.510425568959603\n",
      "0.8608650939915413\n",
      "-----------\n",
      "/scratch1/07088/tg863871/aquaplanet_h308_timing_frontera_ne4pg2_ne4pg2_CRM1_32x_125z1200m.5s_crm_nx_rad_16_CRM2_64x_125z200m.0.5s_crm_nx_rad2_16_np_327_nlev_125_nthread_1.frontera/run/e3sm.log.extract\n",
      "['/scratch1/07088/tg863871/aquaplanet_h308_timing_frontera_ne4pg2_ne4pg2_CRM1_32x_125z1200m.5s_crm_nx_rad_16_CRM2_64x_125z200m.0.5s_crm_nx_rad2_16_np_327_nlev_125_nthread_1.frontera/run/e3sm.log.2708740.210316-064616.gz', '/scratch1/07088/tg863871/aquaplanet_h308_timing_frontera_ne4pg2_ne4pg2_CRM1_32x_125z1200m.5s_crm_nx_rad_16_CRM2_64x_125z200m.0.5s_crm_nx_rad2_16_np_327_nlev_125_nthread_1.frontera/run/e3sm.log.2703732.210315-122405.gz']\n",
      "36.57929612905225\n",
      "3.052477689985614\n",
      "5.438970025947415\n",
      "0.8549757044993797\n",
      "-----------\n",
      "/scratch1/07088/tg863871/aquaplanet_h308_timing_frontera_ne4pg2_ne4pg2_CRM1_32x_125z1400m.5s_crm_nx_rad_16_CRM2_64x_125z200m.0.5s_crm_nx_rad2_16_np_327_nlev_125_nthread_1.frontera/run/e3sm.log.extract\n",
      "['/scratch1/07088/tg863871/aquaplanet_h308_timing_frontera_ne4pg2_ne4pg2_CRM1_32x_125z1400m.5s_crm_nx_rad_16_CRM2_64x_125z200m.0.5s_crm_nx_rad2_16_np_327_nlev_125_nthread_1.frontera/run/e3sm.log.2703748.210315-124027.gz']\n",
      "36.60018534351372\n",
      "3.1686395308118045\n",
      "5.505889620206098\n",
      "0.8834104189982511\n",
      "-----------\n",
      "/scratch1/07088/tg863871/aquaplanet_h308_timing_frontera_ne4pg2_ne4pg2_CRM1_32x_125z1600m.5s_crm_nx_rad_16_CRM2_64x_125z200m.0.5s_crm_nx_rad2_16_np_327_nlev_125_nthread_1.frontera/run/e3sm.log.extract\n",
      "['/scratch1/07088/tg863871/aquaplanet_h308_timing_frontera_ne4pg2_ne4pg2_CRM1_32x_125z1600m.5s_crm_nx_rad_16_CRM2_64x_125z200m.0.5s_crm_nx_rad2_16_np_327_nlev_125_nthread_1.frontera/run/e3sm.log.2703754.210315-131552.gz']\n",
      "36.50691795576282\n",
      "3.1413718517306646\n",
      "5.470287987138267\n",
      "0.7672441647972649\n",
      "-----------\n",
      "/scratch1/07088/tg863871/aquaplanet_h308_timing_frontera_ne4pg2_ne4pg2_CRM1_32x_125z1800m.5s_crm_nx_rad_16_CRM2_64x_125z200m.0.5s_crm_nx_rad2_16_np_327_nlev_125_nthread_1.frontera/run/e3sm.log.extract\n",
      "['/scratch1/07088/tg863871/aquaplanet_h308_timing_frontera_ne4pg2_ne4pg2_CRM1_32x_125z1800m.5s_crm_nx_rad_16_CRM2_64x_125z200m.0.5s_crm_nx_rad2_16_np_327_nlev_125_nthread_1.frontera/run/e3sm.log.2703762.210315-133111.gz']\n",
      "36.7749743336015\n",
      "3.111063573008169\n",
      "5.368380713601303\n",
      "0.7412573284909022\n",
      "-----------\n",
      "/scratch1/07088/tg863871/aquaplanet_h308_timing_frontera_ne4pg2_ne4pg2_CRM1_32x_125z2000m.5s_crm_nx_rad_16_CRM2_64x_125z200m.0.5s_crm_nx_rad2_16_np_327_nlev_125_nthread_1.frontera/run/e3sm.log.extract\n",
      "['/scratch1/07088/tg863871/aquaplanet_h308_timing_frontera_ne4pg2_ne4pg2_CRM1_32x_125z2000m.5s_crm_nx_rad_16_CRM2_64x_125z200m.0.5s_crm_nx_rad2_16_np_327_nlev_125_nthread_1.frontera/run/e3sm.log.2703781.210315-133442.gz']\n",
      "36.475783163626645\n",
      "3.198565517158881\n",
      "5.42283518354433\n",
      "0.7185675457831462\n",
      "-----------\n",
      "36.53783807847956\n",
      "3.1244639302557062\n",
      "===========\n"
     ]
    }
   ],
   "source": [
    "# This group of experiments use 308 heavy loading columns (384 total) with different DX and np_327\n",
    "# 308 Heavy loading columns\n",
    "# 76 light loading columns\n",
    "# Total 327 MPI tasks\n",
    "# Each heavy loading column occupy one MPI task => 308 MPI tasks\n",
    "# Light loading columns are combined => 327-308 = 19\n",
    "# Therefore, 76/19=4 light loading columns are combined into one MPI task\n",
    "# ------------------------------------------------------------------------------------------------\n",
    "x = range(200, 2200, 200)\n",
    "ntime_mean1 = [-99]\n",
    "ntime_mean2 = [-99]\n",
    "ntime_std1  = [-99]\n",
    "ntime_std2  = [-99]\n",
    "for n in x:\n",
    "    PATH = '/scratch1/07088/tg863871/aquaplanet_h308_timing_frontera_ne4pg2_ne4pg2_CRM1_32x_125z'+str(n)+'m.5s_crm_nx_rad_16_CRM2_64x_125z200m.0.5s_crm_nx_rad2_16_np_327_nlev_125_nthread_1.frontera/run/'\n",
    "    FNAME = glob(PATH+'e3sm.log.*.gz')\n",
    "    FNAME2 = PATH+'e3sm.log.extract'\n",
    "    if len(FNAME)>0:\n",
    "        gunzip(FNAME[0], FNAME2)\n",
    "        print(FNAME2)\n",
    "        file1 = open(FNAME2, 'r')\n",
    "    else:\n",
    "        file1 = open(FNAME2, 'r')\n",
    "    \n",
    "    print(FNAME)\n",
    "    \n",
    "    Lines = file1.readlines()\n",
    "    count = 1\n",
    "    num_columns = [-99]\n",
    "    num_time = [-99.99]\n",
    "    for line in Lines:\n",
    "        count += 1\n",
    "        if line.find('=== Liran Timing===') != -1:\n",
    "            hline=re.split(' +',line.strip())\n",
    "            if len(hline) == 6:\n",
    "                num_columns.append(int(hline[4]))\n",
    "                num_time.append(float(hline[5]))\n",
    "    #print(num_columns)\n",
    "    work1 = find_indices(num_columns, lambda e: e == 1 )\n",
    "    work2 = find_indices(num_columns, lambda e: e == 4 )\n",
    "    work11 = [num_time[i] for i in work1]\n",
    "    work22 = [num_time[i] for i in work2]\n",
    "    print(mean(work11[:]))\n",
    "    print(np.std(work11[:]))\n",
    "    print(mean(work22[:]))\n",
    "    print(np.std(work22[:]))\n",
    "    ntime_mean1.append(float(mean(work11[:])))\n",
    "    ntime_mean2.append(float(np.std(work11[:])))\n",
    "    ntime_std1.append(float(mean(work22[:])))\n",
    "    ntime_std2.append(float(np.std(work22[:])))\n",
    "    print('-----------')\n",
    "\n",
    "print(mean(ntime_mean1[1:]))    \n",
    "print(mean(ntime_mean2[1:])) \n",
    "print('===========') "
   ]
  },
  {
   "cell_type": "code",
   "execution_count": 54,
   "metadata": {},
   "outputs": [
    {
     "name": "stdout",
     "output_type": "stream",
     "text": [
      "0.8020833333333334\n",
      "4.726082592093991\n",
      "76.0\n",
      "324.08097161212044\n",
      "1147.6334383649491\n",
      "283.18227699914326\n",
      "4.052631578947369\n"
     ]
    }
   ],
   "source": [
    "C = 384.0\n",
    "NUP = 308.0\n",
    "Fpre = NUP/C\n",
    "print(Fpre)\n",
    "#np = 327.0\n",
    "nsp = 36.48535761096561/(3.088/2.0)\n",
    "nsp = 0.2*nsp\n",
    "print(nsp)\n",
    "MSP = C-NUP\n",
    "print(MSP)\n",
    "M = MSP/nsp + (NUP)\n",
    "print(M)\n",
    "Term1 = ((M*nsp)-C)\n",
    "print(Term1)\n",
    "Term2 = ((C-M)*nsp)\n",
    "print(Term2)\n",
    "F = ((M*nsp)-C)/((C-M)*nsp)\n",
    "print(F)"
   ]
  },
  {
   "cell_type": "code",
   "execution_count": 12,
   "metadata": {},
   "outputs": [
    {
     "name": "stdout",
     "output_type": "stream",
     "text": [
      "73.55502392344498\n",
      "0.17775072052771915\n"
     ]
    }
   ],
   "source": [
    "C = 384.0\n",
    "np = 346\n",
    "nsp = 20.9\n",
    "MSP = C-327\n",
    "M = MSP + (np)/nsp\n",
    "print(M)\n",
    "Term1 = ((M*nsp)-C)\n",
    "Term2 = ((C-M)*nsp)\n",
    "F = ((M*nsp)-C)/((C-M)*nsp)\n",
    "print(F)"
   ]
  },
  {
   "cell_type": "code",
   "execution_count": null,
   "metadata": {},
   "outputs": [],
   "source": []
  }
 ],
 "metadata": {
  "kernelspec": {
   "display_name": "Python 3",
   "language": "python",
   "name": "python3"
  },
  "language_info": {
   "codemirror_mode": {
    "name": "ipython",
    "version": 3
   },
   "file_extension": ".py",
   "mimetype": "text/x-python",
   "name": "python",
   "nbconvert_exporter": "python",
   "pygments_lexer": "ipython3",
   "version": "3.7.3"
  }
 },
 "nbformat": 4,
 "nbformat_minor": 2
}
