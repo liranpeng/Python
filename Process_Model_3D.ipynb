{
 "cells": [
  {
   "cell_type": "code",
   "execution_count": 1,
   "metadata": {},
   "outputs": [],
   "source": [
    "# Compare 2D variables from two Model simulations and INCITE runs\n",
    "import cartopy.crs as ccrs\n",
    "from math import cos, asin, sqrt\n",
    "import matplotlib.pyplot as plt\n",
    "import numpy as np\n",
    "import pickle\n",
    "import xarray as xr\n",
    "import netCDF4 as nc\n",
    "from mpl_toolkits.basemap import Basemap\n",
    "from matplotlib import ticker, cm\n",
    "import matplotlib.tri as tri\n",
    "import sys\n",
    "sys.setrecursionlimit(9000)"
   ]
  },
  {
   "cell_type": "code",
   "execution_count": 2,
   "metadata": {},
   "outputs": [],
   "source": [
    "# Change this part\n",
    "Year  = 2008\n",
    "Month = 10\n",
    "Day   = 1\n",
    "Hour  = 0\n",
    "ngridx = 720\n",
    "ngridy = 360\n",
    "HisFlag = 'h2' # This output is for daily average\n",
    "# Walter's INCITE runs\n",
    "INCITE_Case = 'NXY_32x1.DX_1600.L_125_115.DT_2e0'\n",
    "INCITE_Case2 = 'NXY_32x1.DX_200.L_125_115.DT_5e-1'\n",
    "Date  = str(Year)+'-'+str(\"{0:0=2d}\".format(Month))+'-'+str(\"{0:0=2d}\".format(Day))+'-'+str(\"{0:0=5d}\".format(Hour))\n",
    "Date3 = str(Year)+'-'+str(\"{0:0=2d}\".format(Month))+'-'+str(\"{0:0=2d}\".format(Day))"
   ]
  },
  {
   "cell_type": "code",
   "execution_count": 3,
   "metadata": {},
   "outputs": [],
   "source": [
    "# Model output path and filename\n",
    "PATH = '/scratch1/07088/tg863871/Control_testDX_CRM_output_NOtwin_v3_SP_ERA5_2008_F-MMF1_rrtmgp_frontera_ne16pg2_r05_oQU240_CRM1_32x_120z1600m.1s_crm_nx_rad_16_np_2048_nlev_125.frontera/run/'\n",
    "FNAME = 'Control_testDX_CRM_output_NOtwin_v3_SP_ERA5_2008_F-MMF1_rrtmgp_frontera_ne16pg2_r05_oQU240_CRM1_32x_120z1600m.1s_crm_nx_rad_16_np_2048_nlev_125.frontera.cam.'+HisFlag+'.'+Date+'.nc'\n",
    "PATH2 = '/scratch1/07088/tg863871/Control_testDX_CRM_output_NOtwin_v3_SP_ERA5_2008_F-MMF1_rrtmgp_frontera_ne16pg2_r05_oQU240_CRM1_32x_120z200m.1s_crm_nx_rad_16_np_2048_nlev_125.frontera/run/'\n",
    "FNAME2 = 'Control_testDX_CRM_output_NOtwin_v3_SP_ERA5_2008_F-MMF1_rrtmgp_frontera_ne16pg2_r05_oQU240_CRM1_32x_120z200m.1s_crm_nx_rad_16_np_2048_nlev_125.frontera.cam.'+HisFlag+'.'+Date+'.nc'\n",
    "# Walter's INCITE runs\n",
    "PATH3 = '/scratch1/07088/tg863871/INCITE2020/INCITE2020.HC.GNUGPU.ne45pg2_r05_oECv3.F-MMFXX.'+INCITE_Case+'.2008-10-01/'\n",
    "FNAME3 = 'INCITE2020.HC.GNUGPU.ne45pg2_r05_oECv3.F-MMFXX.'+INCITE_Case+'.2008-10-01.eam.h1.'+Date3+'-00000.remap_180x360.nc'\n",
    "PATH4 = '/scratch1/07088/tg863871/INCITE2020/INCITE2020.HC.GNUGPU.ne45pg2_r05_oECv3.F-MMFXX.'+INCITE_Case2+'.2008-10-01/'\n",
    "FNAME4 = 'INCITE2020.HC.GNUGPU.ne45pg2_r05_oECv3.F-MMFXX.'+INCITE_Case2+'.2008-10-01.eam.h1.'+Date3+'-00000.remap_180x360.nc'"
   ]
  },
  {
   "cell_type": "code",
   "execution_count": 4,
   "metadata": {},
   "outputs": [],
   "source": [
    "# Read data\n",
    "FILE = nc.Dataset(PATH+FNAME, mode = 'r')\n",
    "FILE2 = nc.Dataset(PATH2+FNAME2, mode = 'r')\n",
    "FILE3 = nc.Dataset(PATH3+FNAME3, mode = 'r')\n",
    "FILE4 = nc.Dataset(PATH4+FNAME4, mode = 'r')"
   ]
  },
  {
   "cell_type": "code",
   "execution_count": null,
   "metadata": {},
   "outputs": [],
   "source": [
    "# Read coordinates\n",
    "lon = FILE.variables['lon']\n",
    "lat = FILE.variables['lat']\n",
    "hyam = FILE.variables['hyam']\n",
    "hybm = FILE.variables['hybm']\n",
    "P0 = FILE.variables['P0']\n",
    "PS = FILE.variables['PS']\n",
    "\n",
    "lon3 = FILE3.variables['lon']\n",
    "lat3 = FILE3.variables['lat']\n",
    "lat3.shape"
   ]
  }
 ],
 "metadata": {
  "kernelspec": {
   "display_name": "Python 3",
   "language": "python",
   "name": "python3"
  },
  "language_info": {
   "codemirror_mode": {
    "name": "ipython",
    "version": 3
   },
   "file_extension": ".py",
   "mimetype": "text/x-python",
   "name": "python",
   "nbconvert_exporter": "python",
   "pygments_lexer": "ipython3",
   "version": "3.7.3"
  }
 },
 "nbformat": 4,
 "nbformat_minor": 2
}
