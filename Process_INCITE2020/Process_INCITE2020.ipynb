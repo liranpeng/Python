{
 "cells": [
  {
   "cell_type": "code",
   "execution_count": 1,
   "metadata": {},
   "outputs": [
    {
     "ename": "ModuleNotFoundError",
     "evalue": "No module named 'xarray'",
     "output_type": "error",
     "traceback": [
      "\u001b[0;31m---------------------------------------------------------------------------\u001b[0m",
      "\u001b[0;31mModuleNotFoundError\u001b[0m                       Traceback (most recent call last)",
      "\u001b[0;32m<ipython-input-1-b156b21f353b>\u001b[0m in \u001b[0;36m<module>\u001b[0;34m\u001b[0m\n\u001b[1;32m      3\u001b[0m \u001b[0;32mimport\u001b[0m \u001b[0mpickle\u001b[0m\u001b[0;34m\u001b[0m\u001b[0;34m\u001b[0m\u001b[0m\n\u001b[1;32m      4\u001b[0m \u001b[0;34m\u001b[0m\u001b[0m\n\u001b[0;32m----> 5\u001b[0;31m \u001b[0;32mimport\u001b[0m \u001b[0mxarray\u001b[0m \u001b[0;32mas\u001b[0m \u001b[0mxr\u001b[0m\u001b[0;34m\u001b[0m\u001b[0;34m\u001b[0m\u001b[0m\n\u001b[0m\u001b[1;32m      6\u001b[0m \u001b[0;32mimport\u001b[0m \u001b[0mnetCDF4\u001b[0m\u001b[0;34m\u001b[0m\u001b[0;34m\u001b[0m\u001b[0m\n",
      "\u001b[0;31mModuleNotFoundError\u001b[0m: No module named 'xarray'"
     ]
    }
   ],
   "source": [
    "import matplotlib.pyplot as plt\n",
    "import numpy \n",
    "import pickle\n",
    "\n",
    "import xarray as xr\n",
    "import netCDF4\n"
   ]
  },
  {
   "cell_type": "code",
   "execution_count": 2,
   "metadata": {},
   "outputs": [],
   "source": [
    "Path_INCITE2020 = '/scratch1/07088/tg863871/INCITE2020/INCITE2020.HC.GNUGPU.ne45pg2_r05_oECv3.F-MMFXX.NXY_32x1.DX_1600.L_125_115.DT_2e0.2008-10-01/'\n",
    "INCITE2020_NXY_32x1_DX_1600_L_125_01 = Path_INCITE2020 + 'INCITE2020.HC.GNUGPU.ne45pg2_r05_oECv3.F-MMFXX.NXY_32x1.DX_1600.L_125_115.DT_2e0.2008-10-01.eam.h1.2008-10-01-00000.nc'\n",
    "Path_INCITE2020 = '/scratch1/07088/tg863871/INCITE2020/INCITE2020.HC.GNUGPU.ne45pg2_r05_oECv3.F-MMFXX.NXY_32x32.DX_200.L_50_47.DT_5e-1.2008-10-01/'\n",
    "INCITE2020_NXY_32x32_DX_200_L_50_01 = Path_INCITE2020 + 'INCITE2020.HC.GNUGPU.ne45pg2_r05_oECv3.F-MMFXX.NXY_32x32.DX_200.L_50_47.DT_5e-1.2008-10-01.eam.h1.2008-10-01-00000.remap_180x360.nc'\n",
    "Path_INCITE2020 = '/scratch1/07088/tg863871/INCITE2020/INCITE2020.HC.GNUGPU.ne45pg2_r05_oECv3.F-MMFXX.NXY_32x32.DX_200.L_125_115.DT_5e-1.2008-10-01/'\n",
    "INCITE2020_NXY_32x32_DX_200_L_125_01 = Path_INCITE2020 + 'INCITE2020.HC.GNUGPU.ne45pg2_r05_oECv3.F-MMFXX.NXY_32x32.DX_200.L_125_115.DT_5e-1.2008-10-01.eam.h1.2008-10-01-00000.remap_180x360.nc'\n",
    "Path_INCITE2020 = '/scratch1/07088/tg863871/INCITE2020/INCITE2020.HC.GNUGPU.ne45pg2_r05_oECv3.F-MMFXX.NXY_32x32.DX_200.L_250_230.DT_5e-1.2008-10-01/'\n",
    "INCITE2020_NXY_32x32_DX_200_L_250_01 = Path_INCITE2020 + 'INCITE2020.HC.GNUGPU.ne45pg2_r05_oECv3.F-MMFXX.NXY_32x32.DX_200.L_250_230.DT_5e-1.2008-10-01.eam.h1.2008-10-01-00000.remap_180x360.nc'\n"
   ]
  },
  {
   "cell_type": "code",
   "execution_count": 4,
   "metadata": {},
   "outputs": [
    {
     "data": {
      "text/plain": [
       "'/media/liran/Elements/INCITE2020/INCITE2020.HC.GNUGPU.ne45pg2_r05_oECv3.F-MMFXX.NXY_32x32.DX_200.L_50_47.DT_5e-1.2008-10-01/INCITE2020.HC.GNUGPU.ne45pg2_r05_oECv3.F-MMFXX.NXY_32x32.DX_200.L_50_47.DT_5e-1.2008-10-01.eam.h1.2008-10-01-00000.remap_180x360.nc'"
      ]
     },
     "execution_count": 4,
     "metadata": {},
     "output_type": "execute_result"
    }
   ],
   "source": [
    "INCITE2020_NXY_32x32_DX_200_L_50_01"
   ]
  },
  {
   "cell_type": "code",
   "execution_count": 5,
   "metadata": {},
   "outputs": [],
   "source": [
    "Data_INCITE2020_NXY_32x32_DX_200_L_50_01 = netCDF4.Dataset(INCITE2020_NXY_32x32_DX_200_L_50_01, mode = 'r')"
   ]
  },
  {
   "cell_type": "code",
   "execution_count": 6,
   "metadata": {},
   "outputs": [
    {
     "data": {
      "text/plain": [
       "<class 'netCDF4._netCDF4.Dataset'>\n",
       "root group (NETCDF3_64BIT_DATA data model, file format NETCDF3):\n",
       "    ne: 45\n",
       "    fv_nphys: 2\n",
       "    Conventions: CF-1.0\n",
       "    source: E3SM Atmosphere Model\n",
       "    case: INCITE2020.HC.GNUGPU.ne45pg2_r05_oECv3.F-MMFXX.NXY_32x32.DX_200.L_50_47.DT_5e-1.2008-10-01\n",
       "    title: EAM History file information\n",
       "    username: hannah6\n",
       "    hostname: \n",
       "    initial_file: /gpfs/alpine/scratch/hannah6/cli115/HICCUP/data/HICCUP.atm_era5.2008-10-01.ne45np4.L50.nc\n",
       "    topography_file: /gpfs/alpine/cli115/scratch/hannah6/inputdata/atm/cam/topo/USGS-gtopo30_ne45np4pg2_16xdel2.c20200615.nc\n",
       "    time_period_freq: hour_1\n",
       "    history: Mon Nov 30 16:17:07 2020: ncks -O -t 2 --no_tmp_fl --hdr_pad=10000 --gaa remap_script=ncremap --gaa remap_hostname=rhea-login6g --gaa remap_version=4.9.2 --rgr lat_nm_out=lat#lon_nm_out=lon --map=/ccs/home/hannah6/maps/map_ne45pg2_to_cmip6_180x360_aave.20200624.nc /gpfs/alpine/scratch/hannah6/cli115/e3sm_scratch/INCITE2020.HC.GNUGPU.ne45pg2_r05_oECv3.F-MMFXX.NXY_32x32.DX_200.L_50_47.DT_5e-1.2008-10-01/run/INCITE2020.HC.GNUGPU.ne45pg2_r05_oECv3.F-MMFXX.NXY_32x32.DX_200.L_50_47.DT_5e-1.2008-10-01.eam.h1.2008-10-01-00000.nc /gpfs/alpine/scratch/hannah6/cli115/e3sm_scratch/INCITE2020.HC.GNUGPU.ne45pg2_r05_oECv3.F-MMFXX.NXY_32x32.DX_200.L_50_47.DT_5e-1.2008-10-01/data_remap_180x360/INCITE2020.HC.GNUGPU.ne45pg2_r05_oECv3.F-MMFXX.NXY_32x32.DX_200.L_50_47.DT_5e-1.2008-10-01.eam.h1.2008-10-01-00000.remap_180x360.nc\n",
       "    remap_script: ncremap\n",
       "    remap_hostname: rhea-login6g\n",
       "    remap_version: 4.9.2\n",
       "    NCO: netCDF Operators version 4.9.2 (Homepage = http://nco.sf.net, Code = http://github.com/nco/nco)\n",
       "    nco_openmp_thread_number: 2\n",
       "    map_file: /ccs/home/hannah6/maps/map_ne45pg2_to_cmip6_180x360_aave.20200624.nc\n",
       "    input_file: /gpfs/alpine/scratch/hannah6/cli115/e3sm_scratch/INCITE2020.HC.GNUGPU.ne45pg2_r05_oECv3.F-MMFXX.NXY_32x32.DX_200.L_50_47.DT_5e-1.2008-10-01/run/INCITE2020.HC.GNUGPU.ne45pg2_r05_oECv3.F-MMFXX.NXY_32x32.DX_200.L_50_47.DT_5e-1.2008-10-01.eam.h1.2008-10-01-00000.nc\n",
       "    dimensions(sizes): lat(180), lon(360), nbnd(2), time(24), lev(50), chars(8), ilev(51), lwband(16), swband(14)\n",
       "    variables(dimensions): float64 lat(lat), float64 lon(lon), float64 lat_bnds(lat, nbnd), float64 lon_bnds(lon, nbnd), float64 gw(lat), float64 area(lat, lon), float32 CLDICE(time, lev, lat, lon), float32 CLDLIQ(time, lev, lat, lon), float32 CLOUD(time, lev, lat, lon), float32 FLNS(time, lat, lon), float32 FLNT(time, lat, lon), float32 FLNTC(time, lat, lon), float32 FLUT(time, lat, lon), float32 FSNS(time, lat, lon), float32 FSNT(time, lat, lon), float32 FSNTC(time, lat, lon), float32 FSNTOA(time, lat, lon), float32 LHFLX(time, lat, lon), float32 LWCF(time, lat, lon), float32 MMF_DU(time, lev, lat, lon), float32 MMF_DV(time, lev, lat, lon), float32 MMF_PFLX(time, lev, lat, lon), float32 MMF_QTFLX(time, lev, lat, lon), float32 MMF_TK(time, lev, lat, lon), float32 MMF_TKE(time, lev, lat, lon), float32 MMF_TKES(time, lev, lat, lon), float32 MMF_TKEW(time, lev, lat, lon), float32 MMF_UFLX(time, lev, lat, lon), float32 MMF_VFLX(time, lev, lat, lon), float32 OMEGA(time, lev, lat, lon), float64 P0(), float32 PRECT(time, lat, lon), float32 PS(time, lat, lon), float32 PSL(time, lat, lon), float32 PTECLDICE(time, lev, lat, lon), float32 PTECLDLIQ(time, lev, lat, lon), float32 PTEQ(time, lev, lat, lon), float32 PTTEND(time, lev, lat, lon), float32 Q(time, lev, lat, lon), float32 Q700(time, lat, lon), float32 QBOT(time, lat, lon), float32 QRL(time, lev, lat, lon), float32 QRLC(time, lev, lat, lon), float32 QRS(time, lev, lat, lon), float32 QRSC(time, lev, lat, lon), float32 SHFLX(time, lat, lon), float32 SWCF(time, lat, lon), float32 T(time, lev, lat, lon), float32 T700(time, lat, lon), float32 TAUX(time, lat, lon), float32 TAUY(time, lat, lon), float32 TBOT(time, lat, lon), float32 TGCLDIWP(time, lat, lon), float32 TGCLDLWP(time, lat, lon), float32 TMQ(time, lat, lon), float32 TS(time, lat, lon), float32 U(time, lev, lat, lon), float32 V(time, lev, lat, lon), float32 Z3(time, lev, lat, lon), float32 ZMMTU(time, lev, lat, lon), float32 ZMMTV(time, lev, lat, lon), float64 ch4vmr(time), float64 co2vmr(time), int32 date(time), |S1 date_written(time, chars), int32 datesec(time), float64 f11vmr(time), float64 f12vmr(time), float64 hyai(ilev), float64 hyam(lev), float64 hybi(ilev), float64 hybm(lev), float64 ilev(ilev), float64 lev(lev), float64 lwband(lwband), int32 mdt(), float64 n2ovmr(time), int32 nbdate(), int32 nbsec(), int32 ndbase(), int32 ndcur(time), int32 nsbase(), int32 nscur(time), int32 nsteph(time), float64 sol_tsi(time), float64 swband(swband), float64 time(time), float64 time_bnds(time, nbnd), |S1 time_written(time, chars), float32 uten_Cu(time, lev, lat, lon), float32 vten_Cu(time, lev, lat, lon)\n",
       "    groups: "
      ]
     },
     "execution_count": 6,
     "metadata": {},
     "output_type": "execute_result"
    }
   ],
   "source": [
    "Data_INCITE2020_NXY_32x32_DX_200_L_50_01"
   ]
  },
  {
   "cell_type": "code",
   "execution_count": 8,
   "metadata": {},
   "outputs": [
    {
     "ename": "AttributeError",
     "evalue": "NetCDF: Attribute not found",
     "output_type": "error",
     "traceback": [
      "\u001b[0;31m---------------------------------------------------------------------------\u001b[0m",
      "\u001b[0;31mAttributeError\u001b[0m                            Traceback (most recent call last)",
      "\u001b[0;32m<ipython-input-8-e1f1392b8961>\u001b[0m in \u001b[0;36m<module>\u001b[0;34m\u001b[0m\n\u001b[0;32m----> 1\u001b[0;31m \u001b[0mData_INCITE2020_NXY_32x32_DX_200_L_50_01\u001b[0m\u001b[0;34m.\u001b[0m\u001b[0mCLDICE\u001b[0m\u001b[0;34m\u001b[0m\u001b[0;34m\u001b[0m\u001b[0m\n\u001b[0m",
      "\u001b[0;32mnetCDF4/_netCDF4.pyx\u001b[0m in \u001b[0;36mnetCDF4._netCDF4.Dataset.__getattr__\u001b[0;34m()\u001b[0m\n",
      "\u001b[0;32mnetCDF4/_netCDF4.pyx\u001b[0m in \u001b[0;36mnetCDF4._netCDF4.Dataset.getncattr\u001b[0;34m()\u001b[0m\n",
      "\u001b[0;32mnetCDF4/_netCDF4.pyx\u001b[0m in \u001b[0;36mnetCDF4._netCDF4._get_att\u001b[0;34m()\u001b[0m\n",
      "\u001b[0;32mnetCDF4/_netCDF4.pyx\u001b[0m in \u001b[0;36mnetCDF4._netCDF4._ensure_nc_success\u001b[0;34m()\u001b[0m\n",
      "\u001b[0;31mAttributeError\u001b[0m: NetCDF: Attribute not found"
     ]
    }
   ],
   "source": []
  },
  {
   "cell_type": "code",
   "execution_count": 8,
   "metadata": {},
   "outputs": [
    {
     "ename": "AttributeError",
     "evalue": "NetCDF: Attribute not found",
     "output_type": "error",
     "traceback": [
      "\u001b[0;31m---------------------------------------------------------------------------\u001b[0m",
      "\u001b[0;31mAttributeError\u001b[0m                            Traceback (most recent call last)",
      "\u001b[0;32m<ipython-input-8-ebf92f33fe34>\u001b[0m in \u001b[0;36m<module>\u001b[0;34m\u001b[0m\n\u001b[1;32m      1\u001b[0m \u001b[0;31m# calculate mean of OMEGA\u001b[0m\u001b[0;34m\u001b[0m\u001b[0;34m\u001b[0m\u001b[0;34m\u001b[0m\u001b[0m\n\u001b[0;32m----> 2\u001b[0;31m \u001b[0mSHFLX_daily_mean\u001b[0m \u001b[0;34m=\u001b[0m \u001b[0mnumpy\u001b[0m\u001b[0;34m.\u001b[0m\u001b[0mmean\u001b[0m\u001b[0;34m(\u001b[0m\u001b[0mData_INCITE2020_NXY_32x32_DX_200_L_50_01\u001b[0m\u001b[0;34m.\u001b[0m\u001b[0mSHFLX\u001b[0m\u001b[0;34m,\u001b[0m \u001b[0maxis\u001b[0m\u001b[0;34m=\u001b[0m\u001b[0;36m0\u001b[0m\u001b[0;34m)\u001b[0m\u001b[0;34m\u001b[0m\u001b[0;34m\u001b[0m\u001b[0m\n\u001b[0m\u001b[1;32m      3\u001b[0m \u001b[0mlon\u001b[0m \u001b[0;34m=\u001b[0m \u001b[0mData_INCITE2020_NXY_32x32_DX_200_L_50_01\u001b[0m\u001b[0;34m.\u001b[0m\u001b[0mlon\u001b[0m\u001b[0;34m\u001b[0m\u001b[0;34m\u001b[0m\u001b[0m\n\u001b[1;32m      4\u001b[0m \u001b[0mlat\u001b[0m \u001b[0;34m=\u001b[0m \u001b[0mData_INCITE2020_NXY_32x32_DX_200_L_50_01\u001b[0m\u001b[0;34m.\u001b[0m\u001b[0mlat\u001b[0m\u001b[0;34m\u001b[0m\u001b[0;34m\u001b[0m\u001b[0m\n",
      "\u001b[0;32mnetCDF4/_netCDF4.pyx\u001b[0m in \u001b[0;36mnetCDF4._netCDF4.Dataset.__getattr__\u001b[0;34m()\u001b[0m\n",
      "\u001b[0;32mnetCDF4/_netCDF4.pyx\u001b[0m in \u001b[0;36mnetCDF4._netCDF4.Dataset.getncattr\u001b[0;34m()\u001b[0m\n",
      "\u001b[0;32mnetCDF4/_netCDF4.pyx\u001b[0m in \u001b[0;36mnetCDF4._netCDF4._get_att\u001b[0;34m()\u001b[0m\n",
      "\u001b[0;32mnetCDF4/_netCDF4.pyx\u001b[0m in \u001b[0;36mnetCDF4._netCDF4._ensure_nc_success\u001b[0;34m()\u001b[0m\n",
      "\u001b[0;31mAttributeError\u001b[0m: NetCDF: Attribute not found"
     ]
    }
   ],
   "source": [
    "# calculate mean of OMEGA\n",
    "SHFLX_daily_mean = numpy.mean(Data_INCITE2020_NXY_32x32_DX_200_L_50_01.SHFLX, axis=0)\n",
    "lon = Data_INCITE2020_NXY_32x32_DX_200_L_50_01.lon\n",
    "lat = Data_INCITE2020_NXY_32x32_DX_200_L_50_01.lat"
   ]
  },
  {
   "cell_type": "code",
   "execution_count": 9,
   "metadata": {},
   "outputs": [
    {
     "ename": "NameError",
     "evalue": "name 'lon' is not defined",
     "output_type": "error",
     "traceback": [
      "\u001b[0;31m---------------------------------------------------------------------------\u001b[0m",
      "\u001b[0;31mNameError\u001b[0m                                 Traceback (most recent call last)",
      "\u001b[0;32m<ipython-input-9-e4a9709d59dd>\u001b[0m in \u001b[0;36m<module>\u001b[0;34m\u001b[0m\n\u001b[1;32m      1\u001b[0m \u001b[0mfig\u001b[0m \u001b[0;34m=\u001b[0m \u001b[0mplt\u001b[0m\u001b[0;34m.\u001b[0m\u001b[0mfigure\u001b[0m\u001b[0;34m(\u001b[0m\u001b[0;34m)\u001b[0m\u001b[0;34m\u001b[0m\u001b[0;34m\u001b[0m\u001b[0m\n\u001b[1;32m      2\u001b[0m \u001b[0max_regular\u001b[0m \u001b[0;34m=\u001b[0m \u001b[0mfig\u001b[0m\u001b[0;34m.\u001b[0m\u001b[0madd_subplot\u001b[0m\u001b[0;34m(\u001b[0m\u001b[0;36m111\u001b[0m\u001b[0;34m)\u001b[0m\u001b[0;34m\u001b[0m\u001b[0;34m\u001b[0m\u001b[0m\n\u001b[0;32m----> 3\u001b[0;31m \u001b[0max_regular\u001b[0m\u001b[0;34m.\u001b[0m\u001b[0mcontourf\u001b[0m\u001b[0;34m(\u001b[0m\u001b[0mlon\u001b[0m\u001b[0;34m,\u001b[0m \u001b[0mlat\u001b[0m\u001b[0;34m,\u001b[0m \u001b[0mSHFLX_daily_mean\u001b[0m\u001b[0;34m)\u001b[0m\u001b[0;34m\u001b[0m\u001b[0;34m\u001b[0m\u001b[0m\n\u001b[0m",
      "\u001b[0;31mNameError\u001b[0m: name 'lon' is not defined"
     ]
    },
    {
     "data": {
      "image/png": "[encoded data removed]",
      "text/plain": [
       "<Figure size 432x288 with 1 Axes>"
      ]
     },
     "metadata": {
      "needs_background": "light"
     },
     "output_type": "display_data"
    }
   ],
   "source": [
    "fig = plt.figure()\n",
    "ax_regular = fig.add_subplot(111)\n",
    "ax_regular.contourf(lon, lat, SHFLX_daily_mean)"
   ]
  },
  {
   "cell_type": "code",
   "execution_count": 10,
   "metadata": {},
   "outputs": [
    {
     "ename": "NameError",
     "evalue": "name 'cartopy' is not defined",
     "output_type": "error",
     "traceback": [
      "\u001b[0;31m---------------------------------------------------------------------------\u001b[0m",
      "\u001b[0;31mNameError\u001b[0m                                 Traceback (most recent call last)",
      "\u001b[0;32m<ipython-input-10-9252b636a42f>\u001b[0m in \u001b[0;36m<module>\u001b[0;34m\u001b[0m\n\u001b[1;32m      1\u001b[0m \u001b[0mfig\u001b[0m \u001b[0;34m=\u001b[0m \u001b[0mplt\u001b[0m\u001b[0;34m.\u001b[0m\u001b[0mfigure\u001b[0m\u001b[0;34m(\u001b[0m\u001b[0;34m)\u001b[0m\u001b[0;34m\u001b[0m\u001b[0;34m\u001b[0m\u001b[0m\n\u001b[0;32m----> 2\u001b[0;31m \u001b[0max_cartopy\u001b[0m \u001b[0;34m=\u001b[0m \u001b[0mfig\u001b[0m\u001b[0;34m.\u001b[0m\u001b[0madd_subplot\u001b[0m\u001b[0;34m(\u001b[0m\u001b[0;36m111\u001b[0m\u001b[0;34m,\u001b[0m \u001b[0mprojection\u001b[0m\u001b[0;34m=\u001b[0m\u001b[0mcartopy\u001b[0m\u001b[0;34m.\u001b[0m\u001b[0mcrs\u001b[0m\u001b[0;34m.\u001b[0m\u001b[0mPlateCarree\u001b[0m\u001b[0;34m(\u001b[0m\u001b[0;34m)\u001b[0m\u001b[0;34m)\u001b[0m\u001b[0;34m\u001b[0m\u001b[0;34m\u001b[0m\u001b[0m\n\u001b[0m\u001b[1;32m      3\u001b[0m \u001b[0max_cartopy\u001b[0m\u001b[0;34m.\u001b[0m\u001b[0mcoastlines\u001b[0m\u001b[0;34m(\u001b[0m\u001b[0;34m)\u001b[0m\u001b[0;34m\u001b[0m\u001b[0;34m\u001b[0m\u001b[0m\n",
      "\u001b[0;31mNameError\u001b[0m: name 'cartopy' is not defined"
     ]
    },
    {
     "data": {
      "text/plain": [
       "<Figure size 432x288 with 0 Axes>"
      ]
     },
     "metadata": {},
     "output_type": "display_data"
    }
   ],
   "source": [
    "fig = plt.figure()\n",
    "ax_cartopy = fig.add_subplot(111, projection=cartopy.crs.PlateCarree())\n",
    "ax_cartopy.coastlines()"
   ]
  },
  {
   "cell_type": "code",
   "execution_count": 23,
   "metadata": {},
   "outputs": [
    {
     "ename": "AttributeError",
     "evalue": "'str' object has no attribute 'OMEGA'",
     "output_type": "error",
     "traceback": [
      "\u001b[0;31m---------------------------------------------------------------------------\u001b[0m",
      "\u001b[0;31mAttributeError\u001b[0m                            Traceback (most recent call last)",
      "\u001b[0;32m<ipython-input-23-dd518f723ca3>\u001b[0m in \u001b[0;36m<module>\u001b[0;34m\u001b[0m\n\u001b[0;32m----> 1\u001b[0;31m \u001b[0mw\u001b[0m \u001b[0;34m=\u001b[0m \u001b[0mINCITE2020_NXY_32x32_DX_200_L_50_01\u001b[0m\u001b[0;34m.\u001b[0m\u001b[0mOMEGA\u001b[0m\u001b[0;34m\u001b[0m\u001b[0m\n\u001b[0m\u001b[1;32m      2\u001b[0m \u001b[0mtime\u001b[0m \u001b[0;34m=\u001b[0m \u001b[0mINCITE2020_NXY_32x32_DX_200_L_50_01\u001b[0m\u001b[0;34m.\u001b[0m\u001b[0mtime\u001b[0m\u001b[0;34m\u001b[0m\u001b[0m\n\u001b[1;32m      3\u001b[0m \u001b[0mlat\u001b[0m \u001b[0;34m=\u001b[0m \u001b[0mINCITE2020_NXY_32x32_DX_200_L_50_01\u001b[0m\u001b[0;34m.\u001b[0m\u001b[0mlat\u001b[0m\u001b[0;34m\u001b[0m\u001b[0m\n\u001b[1;32m      4\u001b[0m \u001b[0mlon\u001b[0m \u001b[0;34m=\u001b[0m \u001b[0mINCITE2020_NXY_32x32_DX_200_L_50_01\u001b[0m\u001b[0;34m.\u001b[0m\u001b[0mlon\u001b[0m\u001b[0;34m\u001b[0m\u001b[0m\n",
      "\u001b[0;31mAttributeError\u001b[0m: 'str' object has no attribute 'OMEGA'"
     ]
    }
   ],
   "source": [
    "w = INCITE2020_NXY_32x32_DX_200_L_50_01.OMEGA\n",
    "time = INCITE2020_NXY_32x32_DX_200_L_50_01.time\n",
    "lat = INCITE2020_NXY_32x32_DX_200_L_50_01.lat\n",
    "lon = INCITE2020_NXY_32x32_DX_200_L_50_01.lon"
   ]
  },
  {
   "cell_type": "code",
   "execution_count": null,
   "metadata": {},
   "outputs": [],
   "source": []
  }
 ],
 "metadata": {
  "kernelspec": {
   "display_name": "Python 3",
   "language": "python",
   "name": "python3"
  }
 },
 "nbformat": 4,
 "nbformat_minor": 5
}
