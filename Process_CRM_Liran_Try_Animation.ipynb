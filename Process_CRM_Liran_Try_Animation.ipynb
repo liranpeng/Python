{
 "cells": [
  {
   "cell_type": "code",
   "execution_count": 24,
   "metadata": {},
   "outputs": [],
   "source": [
    "# Compare CRM variables at single column between two simulations \n",
    "import cartopy.crs as ccrs\n",
    "from math import cos, asin, sqrt\n",
    "import matplotlib.pyplot as plt\n",
    "from matplotlib import animation, rc\n",
    "import numpy as np\n",
    "import pickle\n",
    "import xarray as xr\n",
    "import netCDF4 as nc\n",
    "from mpl_toolkits.basemap import Basemap\n",
    "from matplotlib import ticker, cm\n",
    "import sys\n",
    "import types\n",
    "from IPython.display import HTML\n",
    "sys.setrecursionlimit(9000)"
   ]
  },
  {
   "cell_type": "code",
   "execution_count": 2,
   "metadata": {},
   "outputs": [],
   "source": [
    "# Set the location of the column\n",
    "Center_lons = np.array([270., 275.0, 280.])\n",
    "Center_lat = -15.0\n",
    "nx=len(Center_lons)"
   ]
  },
  {
   "cell_type": "code",
   "execution_count": 7,
   "metadata": {},
   "outputs": [
    {
     "data": {
      "text/plain": [
       "(125, 6144)"
      ]
     },
     "execution_count": 7,
     "metadata": {},
     "output_type": "execute_result"
    }
   ],
   "source": [
    "# Model output paths\n",
    "PATH = '/scratch1/07088/tg863871/Control_testDX_CRM_output_NOtwin_v5_SP_ERA5_2008_F-MMF1_rrtmgp_frontera_ne16pg2_r05_oQU240_CRM1_32x_125z1600m.1s_crm_nx_rad_16_np_2048_nlev_125.frontera/run/'\n",
    "PATH2 = '/scratch1/07088/tg863871/Control_testDX_CRM_output_NOtwin_v5_SP_ERA5_2008_F-MMF1_rrtmgp_frontera_ne16pg2_r05_oQU240_CRM1_32x_125z200m.1s_crm_nx_rad_16_np_2048_nlev_125.frontera/run/'\n",
    "\n",
    "files = xr.open_mfdataset(PATH+\"/*.cam.h0.2008-10-01-[01]*.nc\")\n",
    "files2 = xr.open_mfdataset(PATH2+\"/*.cam.h0.2008-10-01-[01]*.nc\")\n",
    "lon = files.lon.isel(time=0).values\n",
    "lat = files.lat.isel(time=0).values\n",
    "Z3  = files.Z3.isel(time=0).values"
   ]
  },
  {
   "cell_type": "code",
   "execution_count": 30,
   "metadata": {},
   "outputs": [],
   "source": [
    "# Function calculate thedistance between two points\n",
    "def distance(lat1, lon1, lat2, lon2):\n",
    "    p = 0.017453292519943295\n",
    "    a = 0.5 - cos((lat2-lat1)*p)/2 + cos(lat1*p)*cos(lat2*p) * (1-cos((lon2-lon1)*p)) / 2\n",
    "    return 12742 * asin(sqrt(a))"
   ]
  },
  {
   "cell_type": "code",
   "execution_count": 31,
   "metadata": {},
   "outputs": [],
   "source": [
    "# Find the column index corresponds to the minimum distance\n",
    "ncols = np.empty(shape=nx)\n",
    "for ix in range(nx-1):\n",
    "    ddmin = 99999999.0\n",
    "    for il in range(4166):\n",
    "        dd = distance(lat[il], lon[il], Center_lat, Center_lons[ix])\n",
    "        if dd<ddmin:\n",
    "            ddmin = dd\n",
    "            minindex = il\n",
    "    ncols[ix] = int(minindex)\n",
    "\n",
    "ncols = ncols.astype(int)"
   ]
  },
  {
   "cell_type": "code",
   "execution_count": 32,
   "metadata": {},
   "outputs": [],
   "source": [
    "def animate_2D():\n",
    "#         print(icol)\n",
    "#        print (type(icol))\n",
    "    fig, ax = plt.subplots(2,nx,figsize=(10,10))\n",
    "#        fig, ax = plt.subplots(figsize=(20, 10))\n",
    "    def animate(i):\n",
    "        for ix in range(nx-1):\n",
    "            icol = ncols[ix]\n",
    "            I = files.CRM_T.isel(ncol=icol).isel(time=i).plot(ax=ax[0,ix], add_colorbar=False)\n",
    "          #  return (I,)\n",
    "        plt.close()   # Not necessary but will avoid a stray figure popping up\n",
    "    return animation.FuncAnimation(fig, animate, frames=files.time.size, interval=150, blit=True)"
   ]
  },
  {
   "cell_type": "code",
   "execution_count": 28,
   "metadata": {},
   "outputs": [
    {
     "name": "stderr",
     "output_type": "stream",
     "text": [
      "Traceback (most recent call last):\n",
      "  File \"/home1/07088/tg863871/anaconda3/envs/Griffin_cpu/lib/python3.7/site-packages/matplotlib/cbook/__init__.py\", line 216, in process\n",
      "    func(*args, **kwargs)\n",
      "  File \"/home1/07088/tg863871/anaconda3/envs/Griffin_cpu/lib/python3.7/site-packages/matplotlib/animation.py\", line 953, in _start\n",
      "    self._init_draw()\n",
      "  File \"/home1/07088/tg863871/anaconda3/envs/Griffin_cpu/lib/python3.7/site-packages/matplotlib/animation.py\", line 1523, in _init_draw\n",
      "    artist.set_visible(False)\n",
      "AttributeError: 'QuadContourSet' object has no attribute 'set_visible'\n"
     ]
    },
    {
     "data": {
      "image/png": "[encoded data removed]",
      "text/plain": [
       "<Figure size 720x720 with 6 Axes>"
      ]
     },
     "metadata": {
      "needs_background": "light"
     },
     "output_type": "display_data"
    }
   ],
   "source": [
    "fig, ax = plt.subplots(2,nx,figsize=(10,10))\n",
    "figs = []\n",
    "x      = list(range(0,32))\n",
    "levels = np.linspace(270, 295, 100)\n",
    "for it in range(files.time.size-1):\n",
    "   # for ix in range(nx-1):\n",
    "    #    icol = ncols[ix]\n",
    "    Z3p1 = Z3[:,ncols[0]]\n",
    "    Z3p1 = Z3p1[::-1]\n",
    "    Z3p2 = Z3[:,ncols[1]]\n",
    "    Z3p2 = Z3p2[::-1]\n",
    "    Z3p3 = Z3[:,ncols[2]]\n",
    "    Z3p3 = Z3p3[::-1]\n",
    "    I0 = np.squeeze(files.CRM_T.isel(ncol=ncols[0]).isel(time=it).values)\n",
    "    I1 = np.squeeze(files.CRM_T.isel(ncol=ncols[1]).isel(time=it).values)\n",
    "    I2 = np.squeeze(files.CRM_T.isel(ncol=ncols[2]).isel(time=it).values)\n",
    "    I0.shape\n",
    "    cs0 = ax[0,0].contourf(x,Z3p1,I0)\n",
    "    cs1 = ax[0,1].contourf(x,Z3p2,I1)\n",
    "    cs2 = ax[0,2].contourf(x,Z3p3,I2)\n",
    "    figs.append([cs0,cs1,cs2])\n",
    "\n",
    "#animation.FuncAnimation(fig, figs, frames=files.time.size, interval=150, blit=True)\n",
    "ani = animation.ArtistAnimation(fig, figs, interval=150, blit=False, repeat=True)\n",
    "#ani.save(\"testy.mp4\")"
   ]
  },
  {
   "cell_type": "code",
   "execution_count": null,
   "metadata": {},
   "outputs": [],
   "source": []
  }
 ],
 "metadata": {
  "kernelspec": {
   "display_name": "Python 3",
   "language": "python",
   "name": "python3"
  },
  "language_info": {
   "codemirror_mode": {
    "name": "ipython",
    "version": 3
   },
   "file_extension": ".py",
   "mimetype": "text/x-python",
   "name": "python",
   "nbconvert_exporter": "python",
   "pygments_lexer": "ipython3",
   "version": "3.7.3"
  }
 },
 "nbformat": 4,
 "nbformat_minor": 2
}
